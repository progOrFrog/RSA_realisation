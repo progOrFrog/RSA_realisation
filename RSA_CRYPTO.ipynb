{
 "cells": [
  {
   "cell_type": "code",
   "execution_count": 5,
   "metadata": {},
   "outputs": [],
   "source": [
    "import random"
   ]
  },
  {
   "cell_type": "code",
   "execution_count": 6,
   "metadata": {},
   "outputs": [],
   "source": [
    "def is_prime(n):\n",
    "    \"\"\"Check if a number is prime\"\"\"\n",
    "    for i in range(2,n):\n",
    "        if (n % i) == 0:\n",
    "            return False\n",
    "    return True\n",
    "\n",
    "def euler_func(p, q):\n",
    "    \"\"\"Count the positive integers (up to p*q) that are relatively prime to p*q\"\"\"\n",
    "    return (p - 1) * (q - 1)\n",
    "\n",
    "def extended_euclidean_algorithm(a, b):\n",
    "    \"\"\"Extended Euclidean algorithm for finding gcd, x, y\"\"\"\n",
    "    if a == 0 :\n",
    "        return b, 0, 1\n",
    "    gcd,x1,y1 = extended_euclidean_algorithm(b % a, a)\n",
    "    x = y1 - (b // a) * x1\n",
    "    y = x1 \n",
    "    return gcd, x, y\n",
    "\n",
    "def modular_inverse(num, mod):\n",
    "    return extended_euclidean_algorithm(num, mod)[1] % mod\n",
    "\n",
    "def generate_keys(bit_length):\n",
    "    \"\"\"Generate public and private keys\"\"\"\n",
    "    # Generation of p and q\n",
    "    half_bit_length = bit_length // 2\n",
    "    while True:\n",
    "        p = random.randint(2**(half_bit_length-1), 2**half_bit_length-1)\n",
    "        if is_prime(p):\n",
    "            break\n",
    "    while True:\n",
    "        q = random.randint(2**(half_bit_length-1), 2**half_bit_length-1)\n",
    "        if is_prime(q) and p != q:\n",
    "            break\n",
    "    # Calculation of the module\n",
    "    n = p * q\n",
    "    # Public key creation\n",
    "    phi = euler_func(p, q)\n",
    "    while True:\n",
    "        e = random.randint(3, phi - 1)\n",
    "        if extended_euclidean_algorithm(e, phi)[0] == 1:\n",
    "            break\n",
    "    pub_key = (e, n)\n",
    "    # Private key creation\n",
    "    d = modular_inverse(e, phi)\n",
    "    priv_key = (d, n)\n",
    "    return pub_key, priv_key "
   ]
  },
  {
   "cell_type": "code",
   "execution_count": 7,
   "metadata": {},
   "outputs": [],
   "source": [
    "def rsa_encrypt(public_key, plain_text):\n",
    "    \"\"\"Encrypt text using input parameters\"\"\"\n",
    "    e, n = public_key\n",
    "    return [pow(ord(char), e, n) for char in plain_text]\n",
    "\n",
    "def rsa_decrypt(private_key, encrypted_text):\n",
    "    \"\"\"Decrypt text using input parameters\"\"\"\n",
    "    d, n = private_key\n",
    "    decrypted_text = [chr(pow(char, d, n)) for char in encrypted_text]\n",
    "    return ''.join(decrypted_text)"
   ]
  },
  {
   "cell_type": "code",
   "execution_count": 8,
   "metadata": {},
   "outputs": [
    {
     "name": "stdout",
     "output_type": "stream",
     "text": [
      "Ключі -  ((1691, 1927), (531, 1927))\n",
      "Початковий текст -  HELLO WORLD\n",
      "Зашифрований текст -  [277, 334, 1530, 1530, 1203, 1485, 77, 1203, 164, 1530, 1520]\n",
      "Розшифрований текст -  HELLO WORLD\n"
     ]
    }
   ],
   "source": [
    "keys = generate_keys(12)\n",
    "initial_text = \"HELLO WORLD\"\n",
    "encrypted_text = rsa_encrypt(keys[0], initial_text)\n",
    "decrypted_text = rsa_decrypt(keys[1], encrypted_text)\n",
    "print(\"Ключі - \", keys)\n",
    "print(\"Початковий текст - \", initial_text)\n",
    "print(\"Зашифрований текст - \", encrypted_text)\n",
    "print(\"Розшифрований текст - \", decrypted_text)"
   ]
  }
 ],
 "metadata": {
  "kernelspec": {
   "display_name": "venv",
   "language": "python",
   "name": "python3"
  },
  "language_info": {
   "codemirror_mode": {
    "name": "ipython",
    "version": 3
   },
   "file_extension": ".py",
   "mimetype": "text/x-python",
   "name": "python",
   "nbconvert_exporter": "python",
   "pygments_lexer": "ipython3",
   "version": "3.13.0"
  }
 },
 "nbformat": 4,
 "nbformat_minor": 2
}
